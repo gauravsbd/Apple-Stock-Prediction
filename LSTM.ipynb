{
 "cells": [
  {
   "cell_type": "code",
   "execution_count": 1,
   "id": "a5c8f4e6-e3dd-4e7c-aa0b-092ee69235e9",
   "metadata": {},
   "outputs": [],
   "source": [
    "import pandas as pd\n",
    "import numpy as np\n",
    "import seaborn as sns\n",
    "import matplotlib.pyplot as plt\n",
    "import sklearn"
   ]
  },
  {
   "cell_type": "code",
   "execution_count": 2,
   "id": "4613779d-b5c5-4d9b-b83a-5c02f8feeb73",
   "metadata": {},
   "outputs": [],
   "source": [
    "df=pd.read_csv('AAPL.csv')"
   ]
  },
  {
   "cell_type": "code",
   "execution_count": 3,
   "id": "b81be9ac-4f7a-4b88-ac31-537cfb6c4f0b",
   "metadata": {},
   "outputs": [
    {
     "data": {
      "text/html": [
       "<div>\n",
       "<style scoped>\n",
       "    .dataframe tbody tr th:only-of-type {\n",
       "        vertical-align: middle;\n",
       "    }\n",
       "\n",
       "    .dataframe tbody tr th {\n",
       "        vertical-align: top;\n",
       "    }\n",
       "\n",
       "    .dataframe thead th {\n",
       "        text-align: right;\n",
       "    }\n",
       "</style>\n",
       "<table border=\"1\" class=\"dataframe\">\n",
       "  <thead>\n",
       "    <tr style=\"text-align: right;\">\n",
       "      <th></th>\n",
       "      <th>Date</th>\n",
       "      <th>Open</th>\n",
       "      <th>High</th>\n",
       "      <th>Low</th>\n",
       "      <th>Close</th>\n",
       "      <th>Adj Close</th>\n",
       "      <th>Volume</th>\n",
       "    </tr>\n",
       "  </thead>\n",
       "  <tbody>\n",
       "    <tr>\n",
       "      <th>0</th>\n",
       "      <td>1/2/2018</td>\n",
       "      <td>42.540001</td>\n",
       "      <td>43.075001</td>\n",
       "      <td>42.314999</td>\n",
       "      <td>43.064999</td>\n",
       "      <td>41.135754</td>\n",
       "      <td>102223600</td>\n",
       "    </tr>\n",
       "    <tr>\n",
       "      <th>1</th>\n",
       "      <td>1/3/2018</td>\n",
       "      <td>43.132500</td>\n",
       "      <td>43.637501</td>\n",
       "      <td>42.990002</td>\n",
       "      <td>43.057499</td>\n",
       "      <td>41.128586</td>\n",
       "      <td>118071600</td>\n",
       "    </tr>\n",
       "    <tr>\n",
       "      <th>2</th>\n",
       "      <td>1/4/2018</td>\n",
       "      <td>43.134998</td>\n",
       "      <td>43.367500</td>\n",
       "      <td>43.020000</td>\n",
       "      <td>43.257500</td>\n",
       "      <td>41.319633</td>\n",
       "      <td>89738400</td>\n",
       "    </tr>\n",
       "    <tr>\n",
       "      <th>3</th>\n",
       "      <td>1/5/2018</td>\n",
       "      <td>43.360001</td>\n",
       "      <td>43.842499</td>\n",
       "      <td>43.262501</td>\n",
       "      <td>43.750000</td>\n",
       "      <td>41.790070</td>\n",
       "      <td>94640000</td>\n",
       "    </tr>\n",
       "    <tr>\n",
       "      <th>4</th>\n",
       "      <td>1/8/2018</td>\n",
       "      <td>43.587502</td>\n",
       "      <td>43.902500</td>\n",
       "      <td>43.482498</td>\n",
       "      <td>43.587502</td>\n",
       "      <td>41.634850</td>\n",
       "      <td>82271200</td>\n",
       "    </tr>\n",
       "    <tr>\n",
       "      <th>...</th>\n",
       "      <td>...</td>\n",
       "      <td>...</td>\n",
       "      <td>...</td>\n",
       "      <td>...</td>\n",
       "      <td>...</td>\n",
       "      <td>...</td>\n",
       "      <td>...</td>\n",
       "    </tr>\n",
       "    <tr>\n",
       "      <th>1060</th>\n",
       "      <td>3/18/2022</td>\n",
       "      <td>160.509995</td>\n",
       "      <td>164.479996</td>\n",
       "      <td>159.759995</td>\n",
       "      <td>163.979996</td>\n",
       "      <td>163.979996</td>\n",
       "      <td>123351200</td>\n",
       "    </tr>\n",
       "    <tr>\n",
       "      <th>1061</th>\n",
       "      <td>3/21/2022</td>\n",
       "      <td>163.509995</td>\n",
       "      <td>166.350006</td>\n",
       "      <td>163.009995</td>\n",
       "      <td>165.380005</td>\n",
       "      <td>165.380005</td>\n",
       "      <td>95811400</td>\n",
       "    </tr>\n",
       "    <tr>\n",
       "      <th>1062</th>\n",
       "      <td>3/22/2022</td>\n",
       "      <td>165.509995</td>\n",
       "      <td>169.419998</td>\n",
       "      <td>164.910004</td>\n",
       "      <td>168.820007</td>\n",
       "      <td>168.820007</td>\n",
       "      <td>81532000</td>\n",
       "    </tr>\n",
       "    <tr>\n",
       "      <th>1063</th>\n",
       "      <td>3/23/2022</td>\n",
       "      <td>167.990005</td>\n",
       "      <td>172.639999</td>\n",
       "      <td>167.649994</td>\n",
       "      <td>170.210007</td>\n",
       "      <td>170.210007</td>\n",
       "      <td>98062700</td>\n",
       "    </tr>\n",
       "    <tr>\n",
       "      <th>1064</th>\n",
       "      <td>3/24/2022</td>\n",
       "      <td>171.059998</td>\n",
       "      <td>174.139999</td>\n",
       "      <td>170.210007</td>\n",
       "      <td>174.070007</td>\n",
       "      <td>174.070007</td>\n",
       "      <td>90018700</td>\n",
       "    </tr>\n",
       "  </tbody>\n",
       "</table>\n",
       "<p>1065 rows × 7 columns</p>\n",
       "</div>"
      ],
      "text/plain": [
       "           Date        Open        High         Low       Close   Adj Close  \\\n",
       "0      1/2/2018   42.540001   43.075001   42.314999   43.064999   41.135754   \n",
       "1      1/3/2018   43.132500   43.637501   42.990002   43.057499   41.128586   \n",
       "2      1/4/2018   43.134998   43.367500   43.020000   43.257500   41.319633   \n",
       "3      1/5/2018   43.360001   43.842499   43.262501   43.750000   41.790070   \n",
       "4      1/8/2018   43.587502   43.902500   43.482498   43.587502   41.634850   \n",
       "...         ...         ...         ...         ...         ...         ...   \n",
       "1060  3/18/2022  160.509995  164.479996  159.759995  163.979996  163.979996   \n",
       "1061  3/21/2022  163.509995  166.350006  163.009995  165.380005  165.380005   \n",
       "1062  3/22/2022  165.509995  169.419998  164.910004  168.820007  168.820007   \n",
       "1063  3/23/2022  167.990005  172.639999  167.649994  170.210007  170.210007   \n",
       "1064  3/24/2022  171.059998  174.139999  170.210007  174.070007  174.070007   \n",
       "\n",
       "         Volume  \n",
       "0     102223600  \n",
       "1     118071600  \n",
       "2      89738400  \n",
       "3      94640000  \n",
       "4      82271200  \n",
       "...         ...  \n",
       "1060  123351200  \n",
       "1061   95811400  \n",
       "1062   81532000  \n",
       "1063   98062700  \n",
       "1064   90018700  \n",
       "\n",
       "[1065 rows x 7 columns]"
      ]
     },
     "execution_count": 3,
     "metadata": {},
     "output_type": "execute_result"
    }
   ],
   "source": [
    "df"
   ]
  },
  {
   "cell_type": "code",
   "execution_count": 4,
   "id": "eb06f398-d0f9-4558-9243-2fc2622f5c1b",
   "metadata": {},
   "outputs": [
    {
     "data": {
      "text/plain": [
       "Date         0\n",
       "Open         0\n",
       "High         0\n",
       "Low          0\n",
       "Close        0\n",
       "Adj Close    0\n",
       "Volume       0\n",
       "dtype: int64"
      ]
     },
     "execution_count": 4,
     "metadata": {},
     "output_type": "execute_result"
    }
   ],
   "source": [
    "df.isna().sum()"
   ]
  },
  {
   "cell_type": "code",
   "execution_count": 5,
   "id": "60f0273d-7878-4995-927b-523a0a6ff04f",
   "metadata": {},
   "outputs": [
    {
     "data": {
      "text/plain": [
       "0        43.064999\n",
       "1        43.057499\n",
       "2        43.257500\n",
       "3        43.750000\n",
       "4        43.587502\n",
       "           ...    \n",
       "1060    163.979996\n",
       "1061    165.380005\n",
       "1062    168.820007\n",
       "1063    170.210007\n",
       "1064    174.070007\n",
       "Name: Close, Length: 1065, dtype: float64"
      ]
     },
     "execution_count": 5,
     "metadata": {},
     "output_type": "execute_result"
    }
   ],
   "source": [
    "df1=df.reset_index()['Close'] \n",
    "df1"
   ]
  },
  {
   "cell_type": "code",
   "execution_count": 6,
   "id": "6100a435-1e6b-46af-8d16-2d6fa654cdab",
   "metadata": {},
   "outputs": [
    {
     "data": {
      "text/plain": [
       "[<matplotlib.lines.Line2D at 0x2d0e1deb190>]"
      ]
     },
     "execution_count": 6,
     "metadata": {},
     "output_type": "execute_result"
    },
    {
     "data": {
      "image/png": "[encoded data removed]",
      "text/plain": [
       "<Figure size 1300x700 with 1 Axes>"
      ]
     },
     "metadata": {},
     "output_type": "display_data"
    }
   ],
   "source": [
    "plt.figure(figsize=(13,7))\n",
    "plt.plot(df1)"
   ]
  },
  {
   "cell_type": "code",
   "execution_count": 7,
   "id": "5f18a1c3-b446-4989-8e2e-152e7561bdc2",
   "metadata": {},
   "outputs": [],
   "source": [
    "from sklearn.preprocessing import MinMaxScaler\n",
    "scaler=MinMaxScaler(feature_range=(0,1))\n",
    "df1=scaler.fit_transform(np.array(df1).reshape(-1,1))"
   ]
  },
  {
   "cell_type": "code",
   "execution_count": 8,
   "id": "106ab699-03ff-4610-881a-f001a4be81a5",
   "metadata": {},
   "outputs": [
    {
     "data": {
      "text/plain": [
       "array([[0.05132712],\n",
       "       [0.05127591],\n",
       "       [0.05264146],\n",
       "       ...,\n",
       "       [0.9099429 ],\n",
       "       [0.91943338],\n",
       "       [0.94578825]])"
      ]
     },
     "execution_count": 8,
     "metadata": {},
     "output_type": "execute_result"
    }
   ],
   "source": [
    "df1"
   ]
  },
  {
   "cell_type": "code",
   "execution_count": 10,
   "id": "bd8f82f9-4ff6-4e70-97bc-1765805e0f38",
   "metadata": {},
   "outputs": [
    {
     "data": {
      "text/plain": [
       "((745, 1), (320, 1))"
      ]
     },
     "execution_count": 10,
     "metadata": {},
     "output_type": "execute_result"
    }
   ],
   "source": [
    "#spliting data into train and test \n",
    "traingsize=int(len(df1)*.7)\n",
    "testingsize=int(len(df1)-traingsize)\n",
    "train_data,test_data=df1[0:traingsize:],df1[traingsize:len(df1):]\n",
    "train_data.shape,test_data.shape, \n"
   ]
  },
  {
   "cell_type": "code",
   "execution_count": 11,
   "id": "9aa1d7bd-2f8c-4bbc-98be-288fdd86b624",
   "metadata": {},
   "outputs": [],
   "source": [
    "#convert nunpy arry to dataset matriX\n",
    "def create_dataset(dataset,time_step):\n",
    "    dataX,dataY=[],[]\n",
    "    for i in range(len(dataset)-time_step-1):\n",
    "        a=dataset[i:(i+time_step),0]\n",
    "        dataX.append(a)\n",
    "        dataY.append(dataset[i+time_step,0])\n",
    "    return np.array(dataX),np.array(dataY)    "
   ]
  },
  {
   "cell_type": "code",
   "execution_count": 12,
   "id": "419ad65a-3bd0-4ce3-806f-d2a9c5e03913",
   "metadata": {},
   "outputs": [],
   "source": [
    "timestamp=100\n",
    "X_train,y_train=create_dataset(train_data,timestamp)\n",
    "X_test,y_test=create_dataset(test_data,timestamp)"
   ]
  },
  {
   "cell_type": "code",
   "execution_count": 13,
   "id": "02e6135f-0718-4492-9f48-6c584404d5cb",
   "metadata": {},
   "outputs": [
    {
     "data": {
      "text/plain": [
       "((644, 100), (219, 100))"
      ]
     },
     "execution_count": 13,
     "metadata": {},
     "output_type": "execute_result"
    }
   ],
   "source": [
    "X_train.shape,X_test.shape"
   ]
  },
  {
   "cell_type": "code",
   "execution_count": 14,
   "id": "5608f90a-690c-4040-9d4c-6ea786812d36",
   "metadata": {},
   "outputs": [
    {
     "data": {
      "text/plain": [
       "((219,), (644,))"
      ]
     },
     "execution_count": 14,
     "metadata": {},
     "output_type": "execute_result"
    }
   ],
   "source": [
    "y_test.shape,y_train.shape"
   ]
  },
  {
   "cell_type": "code",
   "execution_count": 15,
   "id": "d810bce8-ee22-4a82-9b7b-3872d664f824",
   "metadata": {},
   "outputs": [],
   "source": [
    "# reshape input to be [samples, time steps, features] which is required for LSTM\n",
    "X_train=X_train.reshape(X_train.shape[0],X_train.shape[1],1)\n",
    "X_test=X_test.reshape(X_test.shape[0],X_test.shape[1],1)"
   ]
  },
  {
   "cell_type": "code",
   "execution_count": 16,
   "id": "37756064-afc2-4a5c-8f45-be459992efeb",
   "metadata": {},
   "outputs": [
    {
     "data": {
      "text/plain": [
       "array([[[0.05132712],\n",
       "        [0.05127591],\n",
       "        [0.05264146],\n",
       "        ...,\n",
       "        [0.07676027],\n",
       "        [0.07880857],\n",
       "        [0.0784501 ]],\n",
       "\n",
       "       [[0.05127591],\n",
       "        [0.05264146],\n",
       "        [0.05600409],\n",
       "        ...,\n",
       "        [0.07880857],\n",
       "        [0.0784501 ],\n",
       "        [0.07918409]],\n",
       "\n",
       "       [[0.05264146],\n",
       "        [0.05600409],\n",
       "        [0.05489461],\n",
       "        ...,\n",
       "        [0.0784501 ],\n",
       "        [0.07918409],\n",
       "        [0.07802337]],\n",
       "\n",
       "       ...,\n",
       "\n",
       "       [[0.4195784 ],\n",
       "        [0.42143894],\n",
       "        [0.39120937],\n",
       "        ...,\n",
       "        [0.60221902],\n",
       "        [0.60652044],\n",
       "        [0.58876847]],\n",
       "\n",
       "       [[0.42143894],\n",
       "        [0.39120937],\n",
       "        [0.38963898],\n",
       "        ...,\n",
       "        [0.60652044],\n",
       "        [0.58876847],\n",
       "        [0.59873688]],\n",
       "\n",
       "       [[0.39120937],\n",
       "        [0.38963898],\n",
       "        [0.40462575],\n",
       "        ...,\n",
       "        [0.58876847],\n",
       "        [0.59873688],\n",
       "        [0.59306994]]])"
      ]
     },
     "execution_count": 16,
     "metadata": {},
     "output_type": "execute_result"
    }
   ],
   "source": [
    "X_train"
   ]
  },
  {
   "cell_type": "code",
   "execution_count": 17,
   "id": "8e8c1610-ce59-430c-836c-70387a25d708",
   "metadata": {},
   "outputs": [],
   "source": [
    "### Create the Stacked LSTM model\n",
    "from tensorflow.keras.models import Sequential\n",
    "from tensorflow.keras.layers import Dense,Dropout\n",
    "from tensorflow.keras.layers import LSTM\n",
    "from keras.optimizers import Adam\n",
    "from keras.regularizers import l2"
   ]
  },
  {
   "cell_type": "code",
   "execution_count": 54,
   "id": "ddfb4c9b-a7b2-4c8a-9916-70f1687bfa1b",
   "metadata": {},
   "outputs": [],
   "source": [
    "model=Sequential()\n",
    "model.add(LSTM(50,return_sequences=True,input_shape=(100,1)))\n",
    "model.add(Dropout(.2))\n",
    "model.add(LSTM(50))\n",
    "model.add(Dense(1))\n",
    "model.compile(loss='mean_squared_error',optimizer='adam')"
   ]
  },
  {
   "cell_type": "code",
   "execution_count": 55,
   "id": "0e68ab40-936b-4ac7-b360-c1f697481b1c",
   "metadata": {},
   "outputs": [
    {
     "name": "stdout",
     "output_type": "stream",
     "text": [
      "Model: \"sequential_1\"\n",
      "_________________________________________________________________\n",
      " Layer (type)                Output Shape              Param #   \n",
      "=================================================================\n",
      " lstm_2 (LSTM)               (None, 100, 50)           10400     \n",
      "                                                                 \n",
      " dropout (Dropout)           (None, 100, 50)           0         \n",
      "                                                                 \n",
      " lstm_3 (LSTM)               (None, 50)                20200     \n",
      "                                                                 \n",
      " dense_1 (Dense)             (None, 1)                 51        \n",
      "                                                                 \n",
      "=================================================================\n",
      "Total params: 30651 (119.73 KB)\n",
      "Trainable params: 30651 (119.73 KB)\n",
      "Non-trainable params: 0 (0.00 Byte)\n",
      "_________________________________________________________________\n"
     ]
    }
   ],
   "source": [
    "model.summary()"
   ]
  },
  {
   "cell_type": "code",
   "execution_count": 56,
   "id": "3505dcd8-0eb8-4057-a87c-361817b04e23",
   "metadata": {},
   "outputs": [
    {
     "name": "stdout",
     "output_type": "stream",
     "text": [
      "Epoch 1/50\n",
      "11/11 [==============================] - 6s 185ms/step - loss: 0.0269 - val_loss: 0.0018\n",
      "Epoch 2/50\n",
      "11/11 [==============================] - 1s 117ms/step - loss: 0.0047 - val_loss: 0.0166\n",
      "Epoch 3/50\n",
      "11/11 [==============================] - 1s 135ms/step - loss: 0.0019 - val_loss: 0.0018\n",
      "Epoch 4/50\n",
      "11/11 [==============================] - 2s 151ms/step - loss: 0.0013 - val_loss: 0.0140\n",
      "Epoch 5/50\n",
      "11/11 [==============================] - 2s 142ms/step - loss: 9.5808e-04 - val_loss: 0.0014\n",
      "Epoch 6/50\n",
      "11/11 [==============================] - 1s 124ms/step - loss: 7.8269e-04 - val_loss: 0.0013\n",
      "Epoch 7/50\n",
      "11/11 [==============================] - 2s 141ms/step - loss: 7.6547e-04 - val_loss: 0.0024\n",
      "Epoch 8/50\n",
      "11/11 [==============================] - 1s 119ms/step - loss: 7.6991e-04 - val_loss: 0.0016\n",
      "Epoch 9/50\n",
      "11/11 [==============================] - 1s 124ms/step - loss: 7.3278e-04 - val_loss: 0.0019\n",
      "Epoch 10/50\n",
      "11/11 [==============================] - 1s 125ms/step - loss: 6.8314e-04 - val_loss: 0.0017\n",
      "Epoch 11/50\n",
      "11/11 [==============================] - 1s 121ms/step - loss: 6.9569e-04 - val_loss: 0.0013\n",
      "Epoch 12/50\n",
      "11/11 [==============================] - 1s 135ms/step - loss: 6.9996e-04 - val_loss: 0.0012\n",
      "Epoch 13/50\n",
      "11/11 [==============================] - 2s 144ms/step - loss: 6.2773e-04 - val_loss: 0.0016\n",
      "Epoch 14/50\n",
      "11/11 [==============================] - 1s 137ms/step - loss: 6.5435e-04 - val_loss: 0.0012\n",
      "Epoch 15/50\n",
      "11/11 [==============================] - 1s 119ms/step - loss: 6.5707e-04 - val_loss: 0.0011\n",
      "Epoch 16/50\n",
      "11/11 [==============================] - 1s 120ms/step - loss: 6.2358e-04 - val_loss: 0.0015\n",
      "Epoch 17/50\n",
      "11/11 [==============================] - 1s 129ms/step - loss: 6.3814e-04 - val_loss: 0.0030\n",
      "Epoch 18/50\n",
      "11/11 [==============================] - 1s 130ms/step - loss: 6.7999e-04 - val_loss: 0.0011\n",
      "Epoch 19/50\n",
      "11/11 [==============================] - 1s 131ms/step - loss: 6.4888e-04 - val_loss: 0.0014\n",
      "Epoch 20/50\n",
      "11/11 [==============================] - 1s 124ms/step - loss: 6.1605e-04 - val_loss: 0.0030\n",
      "Epoch 21/50\n",
      "11/11 [==============================] - 1s 133ms/step - loss: 6.0092e-04 - val_loss: 0.0016\n",
      "Epoch 22/50\n",
      "11/11 [==============================] - 1s 125ms/step - loss: 5.9294e-04 - val_loss: 0.0011\n",
      "Epoch 23/50\n",
      "11/11 [==============================] - 1s 133ms/step - loss: 6.1156e-04 - val_loss: 0.0012\n",
      "Epoch 24/50\n",
      "11/11 [==============================] - 1s 123ms/step - loss: 5.7551e-04 - val_loss: 0.0010\n",
      "Epoch 25/50\n",
      "11/11 [==============================] - 1s 123ms/step - loss: 5.9519e-04 - val_loss: 0.0012\n",
      "Epoch 26/50\n",
      "11/11 [==============================] - 1s 126ms/step - loss: 5.2927e-04 - val_loss: 0.0018\n",
      "Epoch 27/50\n",
      "11/11 [==============================] - 1s 124ms/step - loss: 5.6561e-04 - val_loss: 0.0032\n",
      "Epoch 28/50\n",
      "11/11 [==============================] - 2s 143ms/step - loss: 6.5117e-04 - val_loss: 0.0021\n",
      "Epoch 29/50\n",
      "11/11 [==============================] - 2s 147ms/step - loss: 6.1086e-04 - val_loss: 0.0011\n",
      "Epoch 30/50\n",
      "11/11 [==============================] - 2s 142ms/step - loss: 6.2141e-04 - val_loss: 0.0010\n",
      "Epoch 31/50\n",
      "11/11 [==============================] - 1s 129ms/step - loss: 5.8531e-04 - val_loss: 0.0019\n",
      "Epoch 32/50\n",
      "11/11 [==============================] - 1s 125ms/step - loss: 5.6506e-04 - val_loss: 0.0013\n",
      "Epoch 33/50\n",
      "11/11 [==============================] - 1s 127ms/step - loss: 5.2810e-04 - val_loss: 0.0014\n",
      "Epoch 34/50\n",
      "11/11 [==============================] - 1s 135ms/step - loss: 4.9258e-04 - val_loss: 0.0016\n",
      "Epoch 35/50\n",
      "11/11 [==============================] - 1s 122ms/step - loss: 4.8348e-04 - val_loss: 0.0021\n",
      "Epoch 36/50\n",
      "11/11 [==============================] - 1s 122ms/step - loss: 5.5043e-04 - val_loss: 0.0014\n",
      "Epoch 37/50\n",
      "11/11 [==============================] - 1s 125ms/step - loss: 5.2517e-04 - val_loss: 0.0013\n",
      "Epoch 38/50\n",
      "11/11 [==============================] - 2s 142ms/step - loss: 4.9021e-04 - val_loss: 0.0010\n",
      "Epoch 39/50\n",
      "11/11 [==============================] - 1s 127ms/step - loss: 5.0838e-04 - val_loss: 0.0043\n",
      "Epoch 40/50\n",
      "11/11 [==============================] - 1s 128ms/step - loss: 7.0269e-04 - val_loss: 0.0035\n",
      "Epoch 41/50\n",
      "11/11 [==============================] - 1s 128ms/step - loss: 5.5408e-04 - val_loss: 9.2076e-04\n",
      "Epoch 42/50\n",
      "11/11 [==============================] - 1s 128ms/step - loss: 4.7934e-04 - val_loss: 9.0830e-04\n",
      "Epoch 43/50\n",
      "11/11 [==============================] - 1s 128ms/step - loss: 6.4731e-04 - val_loss: 9.9620e-04\n",
      "Epoch 44/50\n",
      "11/11 [==============================] - 2s 140ms/step - loss: 5.8210e-04 - val_loss: 0.0016\n",
      "Epoch 45/50\n",
      "11/11 [==============================] - 2s 144ms/step - loss: 5.1504e-04 - val_loss: 9.3011e-04\n",
      "Epoch 46/50\n",
      "11/11 [==============================] - 1s 129ms/step - loss: 8.5241e-04 - val_loss: 0.0029\n",
      "Epoch 47/50\n",
      "11/11 [==============================] - 1s 134ms/step - loss: 6.6317e-04 - val_loss: 0.0018\n",
      "Epoch 48/50\n",
      "11/11 [==============================] - 1s 130ms/step - loss: 6.3295e-04 - val_loss: 0.0018\n",
      "Epoch 49/50\n",
      "11/11 [==============================] - 1s 131ms/step - loss: 5.5485e-04 - val_loss: 0.0048\n",
      "Epoch 50/50\n",
      "11/11 [==============================] - 1s 130ms/step - loss: 5.0404e-04 - val_loss: 0.0013\n"
     ]
    },
    {
     "data": {
      "text/plain": [
       "<keras.src.callbacks.History at 0x2d0f6eb9d10>"
      ]
     },
     "execution_count": 56,
     "metadata": {},
     "output_type": "execute_result"
    }
   ],
   "source": [
    "model.fit(X_train,y_train,validation_data=(X_test,y_test),epochs=50,batch_size=64)\n"
   ]
  },
  {
   "cell_type": "code",
   "execution_count": 57,
   "id": "1334186a-6af9-4c29-8f29-f896ad6f0a46",
   "metadata": {},
   "outputs": [],
   "source": [
    "import tensorflow as tf"
   ]
  },
  {
   "cell_type": "code",
   "execution_count": 58,
   "id": "8801bc03-9677-4a31-b171-847f5aca04c8",
   "metadata": {},
   "outputs": [
    {
     "name": "stdout",
     "output_type": "stream",
     "text": [
      "21/21 [==============================] - 1s 28ms/step\n",
      "7/7 [==============================] - 0s 32ms/step\n"
     ]
    }
   ],
   "source": [
    "###prediction and check performance metrics\n",
    "train_predict=model.predict(X_train)\n",
    "test_predict=model.predict(X_test)"
   ]
  },
  {
   "cell_type": "code",
   "execution_count": 59,
   "id": "1988f6c0-a017-4730-9991-e7c41a9c16ae",
   "metadata": {},
   "outputs": [],
   "source": [
    "train_predict=scaler.inverse_transform(train_predict)\n",
    "test_predict=scaler.inverse_transform(test_predict)"
   ]
  },
  {
   "cell_type": "code",
   "execution_count": 60,
   "id": "d368ddc6-82e0-4009-99ba-a81959f21326",
   "metadata": {},
   "outputs": [
    {
     "data": {
      "text/plain": [
       "71.64532132914427"
      ]
     },
     "execution_count": 60,
     "metadata": {},
     "output_type": "execute_result"
    }
   ],
   "source": [
    "### Calculate RMSE performance metrics\n",
    "import math\n",
    "from sklearn.metrics import mean_squared_error\n",
    "math.sqrt(mean_squared_error(y_train,train_predict))"
   ]
  },
  {
   "cell_type": "code",
   "execution_count": 61,
   "id": "d7209a0a-656c-4e33-83bb-8ae9e8c823d4",
   "metadata": {},
   "outputs": [
    {
     "data": {
      "text/plain": [
       "149.38321693863608"
      ]
     },
     "execution_count": 61,
     "metadata": {},
     "output_type": "execute_result"
    }
   ],
   "source": [
    "### Test Data RMSE\n",
    "math.sqrt(mean_squared_error(y_test,test_predict))"
   ]
  },
  {
   "cell_type": "code",
   "execution_count": 62,
   "id": "cb138327-a684-4200-bd61-ecb45846ac49",
   "metadata": {},
   "outputs": [
    {
     "data": {
      "image/png": "[encoded data removed]",
      "text/plain": [
       "<Figure size 1300x700 with 1 Axes>"
      ]
     },
     "metadata": {},
     "output_type": "display_data"
    }
   ],
   "source": [
    "### Plotting \n",
    "# shift train predictions for plotting\n",
    "look_back=100\n",
    "trainPredictPlot = np.empty_like(df1)\n",
    "trainPredictPlot[:, :] = np.nan\n",
    "trainPredictPlot[look_back:len(train_predict)+look_back, :] = train_predict\n",
    "# shift test predictions for plotting\n",
    "testPredictPlot = np.empty_like(df1)\n",
    "testPredictPlot[:, :] = np.nan\n",
    "testPredictPlot[len(train_predict)+(look_back*2)+1:len(df1)-1, :] = test_predict\n",
    "# plot baseline and predictions\n",
    "plt.figure(figsize=(13,7))\n",
    "plt.plot(scaler.inverse_transform(df1))\n",
    "plt.plot(trainPredictPlot)\n",
    "plt.plot(testPredictPlot)\n",
    "plt.show()"
   ]
  },
  {
   "cell_type": "code",
   "execution_count": 63,
   "id": "8b42db60-0e89-4b5b-b688-27242a9d2031",
   "metadata": {},
   "outputs": [
    {
     "data": {
      "text/plain": [
       "320"
      ]
     },
     "execution_count": 63,
     "metadata": {},
     "output_type": "execute_result"
    }
   ],
   "source": [
    "len(test_data)"
   ]
  },
  {
   "cell_type": "code",
   "execution_count": 64,
   "id": "7d0f386d-eaa9-47fa-9a90-3d08459c3b8f",
   "metadata": {},
   "outputs": [
    {
     "data": {
      "text/plain": [
       "220"
      ]
     },
     "execution_count": 64,
     "metadata": {},
     "output_type": "execute_result"
    }
   ],
   "source": [
    "320-100\n"
   ]
  },
  {
   "cell_type": "code",
   "execution_count": 65,
   "id": "7aa816c6-21b8-4e5d-bf11-0233fb2215e3",
   "metadata": {},
   "outputs": [
    {
     "data": {
      "text/plain": [
       "(1, 100)"
      ]
     },
     "execution_count": 65,
     "metadata": {},
     "output_type": "execute_result"
    }
   ],
   "source": [
    "x_input=test_data[220:].reshape(1,-1)\n",
    "x_input.shape"
   ]
  },
  {
   "cell_type": "code",
   "execution_count": 66,
   "id": "5d29e025-d811-465a-aaad-b2d51e8f0c8b",
   "metadata": {},
   "outputs": [],
   "source": [
    "temp_input=list(x_input)\n",
    "temp_input=x_input[0].tolist()"
   ]
  },
  {
   "cell_type": "code",
   "execution_count": 67,
   "id": "ff9d6f32-ef98-4987-8951-e03ad4ad1553",
   "metadata": {},
   "outputs": [
    {
     "name": "stdout",
     "output_type": "stream",
     "text": [
      "1/1 [==============================] - 0s 20ms/step\n",
      "[0.8567579]\n",
      "101\n",
      "1 day input [0.78158237 0.79161907 0.78800041 0.79018522 0.78444998 0.7869762\n",
      " 0.76724419 0.76690278 0.78137755 0.78144579 0.78827347 0.80527445\n",
      " 0.83517965 0.8534779  0.85668692 0.85934972 0.86296838 0.82794232\n",
      " 0.85136133 0.88590941 0.88229075 0.87539472 0.86228557 0.88604599\n",
      " 0.92605614 0.95268418 0.94913376 0.98252114 0.95719047 0.94756342\n",
      " 0.98149702 0.93343006 0.92578307 0.9162926  0.93841434 0.95650766\n",
      " 0.96087738 0.98852953 0.98142868 0.98204325 0.97398653 0.96968515\n",
      " 1.         0.98422806 0.95159172 0.93165489 0.93281558 0.93295217\n",
      " 0.95268418 0.95575662 0.93295217 0.93896056 0.916634   0.89225911\n",
      " 0.88051549 0.86617741 0.86078347 0.84822056 0.84760608 0.84439706\n",
      " 0.92025267 0.95063585 0.94947516 0.95787318 0.93779977 0.93431768\n",
      " 0.92933351 0.95097726 0.96087738 0.93247418 0.90871386 0.91035254\n",
      " 0.93704872 0.93541014 0.91035254 0.89956479 0.87921831 0.85020064\n",
      " 0.86843055 0.88283697 0.88468037 0.87157123 0.89451226 0.89225911\n",
      " 0.87136641 0.84494329 0.83224379 0.86986431 0.8396177  0.81374072\n",
      " 0.78567892 0.81619868 0.84692327 0.85395578 0.87689682 0.88645564\n",
      " 0.9099429  0.91943338 0.94578825 0.85675788]\n",
      "1/1 [==============================] - 0s 31ms/step\n",
      "1 day output [[0.8611386]]\n",
      "2 day input [0.79161907 0.78800041 0.79018522 0.78444998 0.7869762  0.76724419\n",
      " 0.76690278 0.78137755 0.78144579 0.78827347 0.80527445 0.83517965\n",
      " 0.8534779  0.85668692 0.85934972 0.86296838 0.82794232 0.85136133\n",
      " 0.88590941 0.88229075 0.87539472 0.86228557 0.88604599 0.92605614\n",
      " 0.95268418 0.94913376 0.98252114 0.95719047 0.94756342 0.98149702\n",
      " 0.93343006 0.92578307 0.9162926  0.93841434 0.95650766 0.96087738\n",
      " 0.98852953 0.98142868 0.98204325 0.97398653 0.96968515 1.\n",
      " 0.98422806 0.95159172 0.93165489 0.93281558 0.93295217 0.95268418\n",
      " 0.95575662 0.93295217 0.93896056 0.916634   0.89225911 0.88051549\n",
      " 0.86617741 0.86078347 0.84822056 0.84760608 0.84439706 0.92025267\n",
      " 0.95063585 0.94947516 0.95787318 0.93779977 0.93431768 0.92933351\n",
      " 0.95097726 0.96087738 0.93247418 0.90871386 0.91035254 0.93704872\n",
      " 0.93541014 0.91035254 0.89956479 0.87921831 0.85020064 0.86843055\n",
      " 0.88283697 0.88468037 0.87157123 0.89451226 0.89225911 0.87136641\n",
      " 0.84494329 0.83224379 0.86986431 0.8396177  0.81374072 0.78567892\n",
      " 0.81619868 0.84692327 0.85395578 0.87689682 0.88645564 0.9099429\n",
      " 0.91943338 0.94578825 0.85675788 0.86113858]\n",
      "1/1 [==============================] - 0s 31ms/step\n",
      "2 day output [[0.8615773]]\n",
      "3 day input [0.78800041 0.79018522 0.78444998 0.7869762  0.76724419 0.76690278\n",
      " 0.78137755 0.78144579 0.78827347 0.80527445 0.83517965 0.8534779\n",
      " 0.85668692 0.85934972 0.86296838 0.82794232 0.85136133 0.88590941\n",
      " 0.88229075 0.87539472 0.86228557 0.88604599 0.92605614 0.95268418\n",
      " 0.94913376 0.98252114 0.95719047 0.94756342 0.98149702 0.93343006\n",
      " 0.92578307 0.9162926  0.93841434 0.95650766 0.96087738 0.98852953\n",
      " 0.98142868 0.98204325 0.97398653 0.96968515 1.         0.98422806\n",
      " 0.95159172 0.93165489 0.93281558 0.93295217 0.95268418 0.95575662\n",
      " 0.93295217 0.93896056 0.916634   0.89225911 0.88051549 0.86617741\n",
      " 0.86078347 0.84822056 0.84760608 0.84439706 0.92025267 0.95063585\n",
      " 0.94947516 0.95787318 0.93779977 0.93431768 0.92933351 0.95097726\n",
      " 0.96087738 0.93247418 0.90871386 0.91035254 0.93704872 0.93541014\n",
      " 0.91035254 0.89956479 0.87921831 0.85020064 0.86843055 0.88283697\n",
      " 0.88468037 0.87157123 0.89451226 0.89225911 0.87136641 0.84494329\n",
      " 0.83224379 0.86986431 0.8396177  0.81374072 0.78567892 0.81619868\n",
      " 0.84692327 0.85395578 0.87689682 0.88645564 0.9099429  0.91943338\n",
      " 0.94578825 0.85675788 0.86113858 0.86157727]\n",
      "1/1 [==============================] - 0s 31ms/step\n",
      "3 day output [[0.85965693]]\n",
      "4 day input [0.79018522 0.78444998 0.7869762  0.76724419 0.76690278 0.78137755\n",
      " 0.78144579 0.78827347 0.80527445 0.83517965 0.8534779  0.85668692\n",
      " 0.85934972 0.86296838 0.82794232 0.85136133 0.88590941 0.88229075\n",
      " 0.87539472 0.86228557 0.88604599 0.92605614 0.95268418 0.94913376\n",
      " 0.98252114 0.95719047 0.94756342 0.98149702 0.93343006 0.92578307\n",
      " 0.9162926  0.93841434 0.95650766 0.96087738 0.98852953 0.98142868\n",
      " 0.98204325 0.97398653 0.96968515 1.         0.98422806 0.95159172\n",
      " 0.93165489 0.93281558 0.93295217 0.95268418 0.95575662 0.93295217\n",
      " 0.93896056 0.916634   0.89225911 0.88051549 0.86617741 0.86078347\n",
      " 0.84822056 0.84760608 0.84439706 0.92025267 0.95063585 0.94947516\n",
      " 0.95787318 0.93779977 0.93431768 0.92933351 0.95097726 0.96087738\n",
      " 0.93247418 0.90871386 0.91035254 0.93704872 0.93541014 0.91035254\n",
      " 0.89956479 0.87921831 0.85020064 0.86843055 0.88283697 0.88468037\n",
      " 0.87157123 0.89451226 0.89225911 0.87136641 0.84494329 0.83224379\n",
      " 0.86986431 0.8396177  0.81374072 0.78567892 0.81619868 0.84692327\n",
      " 0.85395578 0.87689682 0.88645564 0.9099429  0.91943338 0.94578825\n",
      " 0.85675788 0.86113858 0.86157727 0.85965693]\n",
      "1/1 [==============================] - 0s 16ms/step\n",
      "4 day output [[0.8563654]]\n",
      "5 day input [0.78444998 0.7869762  0.76724419 0.76690278 0.78137755 0.78144579\n",
      " 0.78827347 0.80527445 0.83517965 0.8534779  0.85668692 0.85934972\n",
      " 0.86296838 0.82794232 0.85136133 0.88590941 0.88229075 0.87539472\n",
      " 0.86228557 0.88604599 0.92605614 0.95268418 0.94913376 0.98252114\n",
      " 0.95719047 0.94756342 0.98149702 0.93343006 0.92578307 0.9162926\n",
      " 0.93841434 0.95650766 0.96087738 0.98852953 0.98142868 0.98204325\n",
      " 0.97398653 0.96968515 1.         0.98422806 0.95159172 0.93165489\n",
      " 0.93281558 0.93295217 0.95268418 0.95575662 0.93295217 0.93896056\n",
      " 0.916634   0.89225911 0.88051549 0.86617741 0.86078347 0.84822056\n",
      " 0.84760608 0.84439706 0.92025267 0.95063585 0.94947516 0.95787318\n",
      " 0.93779977 0.93431768 0.92933351 0.95097726 0.96087738 0.93247418\n",
      " 0.90871386 0.91035254 0.93704872 0.93541014 0.91035254 0.89956479\n",
      " 0.87921831 0.85020064 0.86843055 0.88283697 0.88468037 0.87157123\n",
      " 0.89451226 0.89225911 0.87136641 0.84494329 0.83224379 0.86986431\n",
      " 0.8396177  0.81374072 0.78567892 0.81619868 0.84692327 0.85395578\n",
      " 0.87689682 0.88645564 0.9099429  0.91943338 0.94578825 0.85675788\n",
      " 0.86113858 0.86157727 0.85965693 0.85636538]\n",
      "1/1 [==============================] - 0s 31ms/step\n",
      "5 day output [[0.8523115]]\n",
      "6 day input [0.7869762  0.76724419 0.76690278 0.78137755 0.78144579 0.78827347\n",
      " 0.80527445 0.83517965 0.8534779  0.85668692 0.85934972 0.86296838\n",
      " 0.82794232 0.85136133 0.88590941 0.88229075 0.87539472 0.86228557\n",
      " 0.88604599 0.92605614 0.95268418 0.94913376 0.98252114 0.95719047\n",
      " 0.94756342 0.98149702 0.93343006 0.92578307 0.9162926  0.93841434\n",
      " 0.95650766 0.96087738 0.98852953 0.98142868 0.98204325 0.97398653\n",
      " 0.96968515 1.         0.98422806 0.95159172 0.93165489 0.93281558\n",
      " 0.93295217 0.95268418 0.95575662 0.93295217 0.93896056 0.916634\n",
      " 0.89225911 0.88051549 0.86617741 0.86078347 0.84822056 0.84760608\n",
      " 0.84439706 0.92025267 0.95063585 0.94947516 0.95787318 0.93779977\n",
      " 0.93431768 0.92933351 0.95097726 0.96087738 0.93247418 0.90871386\n",
      " 0.91035254 0.93704872 0.93541014 0.91035254 0.89956479 0.87921831\n",
      " 0.85020064 0.86843055 0.88283697 0.88468037 0.87157123 0.89451226\n",
      " 0.89225911 0.87136641 0.84494329 0.83224379 0.86986431 0.8396177\n",
      " 0.81374072 0.78567892 0.81619868 0.84692327 0.85395578 0.87689682\n",
      " 0.88645564 0.9099429  0.91943338 0.94578825 0.85675788 0.86113858\n",
      " 0.86157727 0.85965693 0.85636538 0.85231149]\n",
      "1/1 [==============================] - 0s 31ms/step\n",
      "6 day output [[0.84786886]]\n",
      "7 day input [0.76724419 0.76690278 0.78137755 0.78144579 0.78827347 0.80527445\n",
      " 0.83517965 0.8534779  0.85668692 0.85934972 0.86296838 0.82794232\n",
      " 0.85136133 0.88590941 0.88229075 0.87539472 0.86228557 0.88604599\n",
      " 0.92605614 0.95268418 0.94913376 0.98252114 0.95719047 0.94756342\n",
      " 0.98149702 0.93343006 0.92578307 0.9162926  0.93841434 0.95650766\n",
      " 0.96087738 0.98852953 0.98142868 0.98204325 0.97398653 0.96968515\n",
      " 1.         0.98422806 0.95159172 0.93165489 0.93281558 0.93295217\n",
      " 0.95268418 0.95575662 0.93295217 0.93896056 0.916634   0.89225911\n",
      " 0.88051549 0.86617741 0.86078347 0.84822056 0.84760608 0.84439706\n",
      " 0.92025267 0.95063585 0.94947516 0.95787318 0.93779977 0.93431768\n",
      " 0.92933351 0.95097726 0.96087738 0.93247418 0.90871386 0.91035254\n",
      " 0.93704872 0.93541014 0.91035254 0.89956479 0.87921831 0.85020064\n",
      " 0.86843055 0.88283697 0.88468037 0.87157123 0.89451226 0.89225911\n",
      " 0.87136641 0.84494329 0.83224379 0.86986431 0.8396177  0.81374072\n",
      " 0.78567892 0.81619868 0.84692327 0.85395578 0.87689682 0.88645564\n",
      " 0.9099429  0.91943338 0.94578825 0.85675788 0.86113858 0.86157727\n",
      " 0.85965693 0.85636538 0.85231149 0.84786886]\n",
      "1/1 [==============================] - 0s 28ms/step\n",
      "7 day output [[0.8432653]]\n",
      "8 day input [0.76690278 0.78137755 0.78144579 0.78827347 0.80527445 0.83517965\n",
      " 0.8534779  0.85668692 0.85934972 0.86296838 0.82794232 0.85136133\n",
      " 0.88590941 0.88229075 0.87539472 0.86228557 0.88604599 0.92605614\n",
      " 0.95268418 0.94913376 0.98252114 0.95719047 0.94756342 0.98149702\n",
      " 0.93343006 0.92578307 0.9162926  0.93841434 0.95650766 0.96087738\n",
      " 0.98852953 0.98142868 0.98204325 0.97398653 0.96968515 1.\n",
      " 0.98422806 0.95159172 0.93165489 0.93281558 0.93295217 0.95268418\n",
      " 0.95575662 0.93295217 0.93896056 0.916634   0.89225911 0.88051549\n",
      " 0.86617741 0.86078347 0.84822056 0.84760608 0.84439706 0.92025267\n",
      " 0.95063585 0.94947516 0.95787318 0.93779977 0.93431768 0.92933351\n",
      " 0.95097726 0.96087738 0.93247418 0.90871386 0.91035254 0.93704872\n",
      " 0.93541014 0.91035254 0.89956479 0.87921831 0.85020064 0.86843055\n",
      " 0.88283697 0.88468037 0.87157123 0.89451226 0.89225911 0.87136641\n",
      " 0.84494329 0.83224379 0.86986431 0.8396177  0.81374072 0.78567892\n",
      " 0.81619868 0.84692327 0.85395578 0.87689682 0.88645564 0.9099429\n",
      " 0.91943338 0.94578825 0.85675788 0.86113858 0.86157727 0.85965693\n",
      " 0.85636538 0.85231149 0.84786886 0.8432653 ]\n",
      "1/1 [==============================] - 0s 31ms/step\n",
      "8 day output [[0.83863896]]\n",
      "9 day input [0.78137755 0.78144579 0.78827347 0.80527445 0.83517965 0.8534779\n",
      " 0.85668692 0.85934972 0.86296838 0.82794232 0.85136133 0.88590941\n",
      " 0.88229075 0.87539472 0.86228557 0.88604599 0.92605614 0.95268418\n",
      " 0.94913376 0.98252114 0.95719047 0.94756342 0.98149702 0.93343006\n",
      " 0.92578307 0.9162926  0.93841434 0.95650766 0.96087738 0.98852953\n",
      " 0.98142868 0.98204325 0.97398653 0.96968515 1.         0.98422806\n",
      " 0.95159172 0.93165489 0.93281558 0.93295217 0.95268418 0.95575662\n",
      " 0.93295217 0.93896056 0.916634   0.89225911 0.88051549 0.86617741\n",
      " 0.86078347 0.84822056 0.84760608 0.84439706 0.92025267 0.95063585\n",
      " 0.94947516 0.95787318 0.93779977 0.93431768 0.92933351 0.95097726\n",
      " 0.96087738 0.93247418 0.90871386 0.91035254 0.93704872 0.93541014\n",
      " 0.91035254 0.89956479 0.87921831 0.85020064 0.86843055 0.88283697\n",
      " 0.88468037 0.87157123 0.89451226 0.89225911 0.87136641 0.84494329\n",
      " 0.83224379 0.86986431 0.8396177  0.81374072 0.78567892 0.81619868\n",
      " 0.84692327 0.85395578 0.87689682 0.88645564 0.9099429  0.91943338\n",
      " 0.94578825 0.85675788 0.86113858 0.86157727 0.85965693 0.85636538\n",
      " 0.85231149 0.84786886 0.8432653  0.83863896]\n",
      "1/1 [==============================] - 0s 31ms/step\n",
      "9 day output [[0.83407027]]\n",
      "10 day input [0.78144579 0.78827347 0.80527445 0.83517965 0.8534779  0.85668692\n",
      " 0.85934972 0.86296838 0.82794232 0.85136133 0.88590941 0.88229075\n",
      " 0.87539472 0.86228557 0.88604599 0.92605614 0.95268418 0.94913376\n",
      " 0.98252114 0.95719047 0.94756342 0.98149702 0.93343006 0.92578307\n",
      " 0.9162926  0.93841434 0.95650766 0.96087738 0.98852953 0.98142868\n",
      " 0.98204325 0.97398653 0.96968515 1.         0.98422806 0.95159172\n",
      " 0.93165489 0.93281558 0.93295217 0.95268418 0.95575662 0.93295217\n",
      " 0.93896056 0.916634   0.89225911 0.88051549 0.86617741 0.86078347\n",
      " 0.84822056 0.84760608 0.84439706 0.92025267 0.95063585 0.94947516\n",
      " 0.95787318 0.93779977 0.93431768 0.92933351 0.95097726 0.96087738\n",
      " 0.93247418 0.90871386 0.91035254 0.93704872 0.93541014 0.91035254\n",
      " 0.89956479 0.87921831 0.85020064 0.86843055 0.88283697 0.88468037\n",
      " 0.87157123 0.89451226 0.89225911 0.87136641 0.84494329 0.83224379\n",
      " 0.86986431 0.8396177  0.81374072 0.78567892 0.81619868 0.84692327\n",
      " 0.85395578 0.87689682 0.88645564 0.9099429  0.91943338 0.94578825\n",
      " 0.85675788 0.86113858 0.86157727 0.85965693 0.85636538 0.85231149\n",
      " 0.84786886 0.8432653  0.83863896 0.83407027]\n",
      "1/1 [==============================] - 0s 31ms/step\n",
      "10 day output [[0.82960683]]\n",
      "11 day input [0.78827347 0.80527445 0.83517965 0.8534779  0.85668692 0.85934972\n",
      " 0.86296838 0.82794232 0.85136133 0.88590941 0.88229075 0.87539472\n",
      " 0.86228557 0.88604599 0.92605614 0.95268418 0.94913376 0.98252114\n",
      " 0.95719047 0.94756342 0.98149702 0.93343006 0.92578307 0.9162926\n",
      " 0.93841434 0.95650766 0.96087738 0.98852953 0.98142868 0.98204325\n",
      " 0.97398653 0.96968515 1.         0.98422806 0.95159172 0.93165489\n",
      " 0.93281558 0.93295217 0.95268418 0.95575662 0.93295217 0.93896056\n",
      " 0.916634   0.89225911 0.88051549 0.86617741 0.86078347 0.84822056\n",
      " 0.84760608 0.84439706 0.92025267 0.95063585 0.94947516 0.95787318\n",
      " 0.93779977 0.93431768 0.92933351 0.95097726 0.96087738 0.93247418\n",
      " 0.90871386 0.91035254 0.93704872 0.93541014 0.91035254 0.89956479\n",
      " 0.87921831 0.85020064 0.86843055 0.88283697 0.88468037 0.87157123\n",
      " 0.89451226 0.89225911 0.87136641 0.84494329 0.83224379 0.86986431\n",
      " 0.8396177  0.81374072 0.78567892 0.81619868 0.84692327 0.85395578\n",
      " 0.87689682 0.88645564 0.9099429  0.91943338 0.94578825 0.85675788\n",
      " 0.86113858 0.86157727 0.85965693 0.85636538 0.85231149 0.84786886\n",
      " 0.8432653  0.83863896 0.83407027 0.82960683]\n",
      "1/1 [==============================] - 0s 31ms/step\n",
      "11 day output [[0.82527363]]\n",
      "12 day input [0.80527445 0.83517965 0.8534779  0.85668692 0.85934972 0.86296838\n",
      " 0.82794232 0.85136133 0.88590941 0.88229075 0.87539472 0.86228557\n",
      " 0.88604599 0.92605614 0.95268418 0.94913376 0.98252114 0.95719047\n",
      " 0.94756342 0.98149702 0.93343006 0.92578307 0.9162926  0.93841434\n",
      " 0.95650766 0.96087738 0.98852953 0.98142868 0.98204325 0.97398653\n",
      " 0.96968515 1.         0.98422806 0.95159172 0.93165489 0.93281558\n",
      " 0.93295217 0.95268418 0.95575662 0.93295217 0.93896056 0.916634\n",
      " 0.89225911 0.88051549 0.86617741 0.86078347 0.84822056 0.84760608\n",
      " 0.84439706 0.92025267 0.95063585 0.94947516 0.95787318 0.93779977\n",
      " 0.93431768 0.92933351 0.95097726 0.96087738 0.93247418 0.90871386\n",
      " 0.91035254 0.93704872 0.93541014 0.91035254 0.89956479 0.87921831\n",
      " 0.85020064 0.86843055 0.88283697 0.88468037 0.87157123 0.89451226\n",
      " 0.89225911 0.87136641 0.84494329 0.83224379 0.86986431 0.8396177\n",
      " 0.81374072 0.78567892 0.81619868 0.84692327 0.85395578 0.87689682\n",
      " 0.88645564 0.9099429  0.91943338 0.94578825 0.85675788 0.86113858\n",
      " 0.86157727 0.85965693 0.85636538 0.85231149 0.84786886 0.8432653\n",
      " 0.83863896 0.83407027 0.82960683 0.82527363]\n",
      "1/1 [==============================] - 0s 34ms/step\n",
      "12 day output [[0.8210832]]\n",
      "13 day input [0.83517965 0.8534779  0.85668692 0.85934972 0.86296838 0.82794232\n",
      " 0.85136133 0.88590941 0.88229075 0.87539472 0.86228557 0.88604599\n",
      " 0.92605614 0.95268418 0.94913376 0.98252114 0.95719047 0.94756342\n",
      " 0.98149702 0.93343006 0.92578307 0.9162926  0.93841434 0.95650766\n",
      " 0.96087738 0.98852953 0.98142868 0.98204325 0.97398653 0.96968515\n",
      " 1.         0.98422806 0.95159172 0.93165489 0.93281558 0.93295217\n",
      " 0.95268418 0.95575662 0.93295217 0.93896056 0.916634   0.89225911\n",
      " 0.88051549 0.86617741 0.86078347 0.84822056 0.84760608 0.84439706\n",
      " 0.92025267 0.95063585 0.94947516 0.95787318 0.93779977 0.93431768\n",
      " 0.92933351 0.95097726 0.96087738 0.93247418 0.90871386 0.91035254\n",
      " 0.93704872 0.93541014 0.91035254 0.89956479 0.87921831 0.85020064\n",
      " 0.86843055 0.88283697 0.88468037 0.87157123 0.89451226 0.89225911\n",
      " 0.87136641 0.84494329 0.83224379 0.86986431 0.8396177  0.81374072\n",
      " 0.78567892 0.81619868 0.84692327 0.85395578 0.87689682 0.88645564\n",
      " 0.9099429  0.91943338 0.94578825 0.85675788 0.86113858 0.86157727\n",
      " 0.85965693 0.85636538 0.85231149 0.84786886 0.8432653  0.83863896\n",
      " 0.83407027 0.82960683 0.82527363 0.82108319]\n",
      "1/1 [==============================] - 0s 31ms/step\n",
      "13 day output [[0.8170399]]\n",
      "14 day input [0.8534779  0.85668692 0.85934972 0.86296838 0.82794232 0.85136133\n",
      " 0.88590941 0.88229075 0.87539472 0.86228557 0.88604599 0.92605614\n",
      " 0.95268418 0.94913376 0.98252114 0.95719047 0.94756342 0.98149702\n",
      " 0.93343006 0.92578307 0.9162926  0.93841434 0.95650766 0.96087738\n",
      " 0.98852953 0.98142868 0.98204325 0.97398653 0.96968515 1.\n",
      " 0.98422806 0.95159172 0.93165489 0.93281558 0.93295217 0.95268418\n",
      " 0.95575662 0.93295217 0.93896056 0.916634   0.89225911 0.88051549\n",
      " 0.86617741 0.86078347 0.84822056 0.84760608 0.84439706 0.92025267\n",
      " 0.95063585 0.94947516 0.95787318 0.93779977 0.93431768 0.92933351\n",
      " 0.95097726 0.96087738 0.93247418 0.90871386 0.91035254 0.93704872\n",
      " 0.93541014 0.91035254 0.89956479 0.87921831 0.85020064 0.86843055\n",
      " 0.88283697 0.88468037 0.87157123 0.89451226 0.89225911 0.87136641\n",
      " 0.84494329 0.83224379 0.86986431 0.8396177  0.81374072 0.78567892\n",
      " 0.81619868 0.84692327 0.85395578 0.87689682 0.88645564 0.9099429\n",
      " 0.91943338 0.94578825 0.85675788 0.86113858 0.86157727 0.85965693\n",
      " 0.85636538 0.85231149 0.84786886 0.8432653  0.83863896 0.83407027\n",
      " 0.82960683 0.82527363 0.82108319 0.81703991]\n",
      "1/1 [==============================] - 0s 31ms/step\n",
      "14 day output [[0.8131434]]\n",
      "15 day input [0.85668692 0.85934972 0.86296838 0.82794232 0.85136133 0.88590941\n",
      " 0.88229075 0.87539472 0.86228557 0.88604599 0.92605614 0.95268418\n",
      " 0.94913376 0.98252114 0.95719047 0.94756342 0.98149702 0.93343006\n",
      " 0.92578307 0.9162926  0.93841434 0.95650766 0.96087738 0.98852953\n",
      " 0.98142868 0.98204325 0.97398653 0.96968515 1.         0.98422806\n",
      " 0.95159172 0.93165489 0.93281558 0.93295217 0.95268418 0.95575662\n",
      " 0.93295217 0.93896056 0.916634   0.89225911 0.88051549 0.86617741\n",
      " 0.86078347 0.84822056 0.84760608 0.84439706 0.92025267 0.95063585\n",
      " 0.94947516 0.95787318 0.93779977 0.93431768 0.92933351 0.95097726\n",
      " 0.96087738 0.93247418 0.90871386 0.91035254 0.93704872 0.93541014\n",
      " 0.91035254 0.89956479 0.87921831 0.85020064 0.86843055 0.88283697\n",
      " 0.88468037 0.87157123 0.89451226 0.89225911 0.87136641 0.84494329\n",
      " 0.83224379 0.86986431 0.8396177  0.81374072 0.78567892 0.81619868\n",
      " 0.84692327 0.85395578 0.87689682 0.88645564 0.9099429  0.91943338\n",
      " 0.94578825 0.85675788 0.86113858 0.86157727 0.85965693 0.85636538\n",
      " 0.85231149 0.84786886 0.8432653  0.83863896 0.83407027 0.82960683\n",
      " 0.82527363 0.82108319 0.81703991 0.81314337]\n",
      "1/1 [==============================] - 0s 40ms/step\n",
      "15 day output [[0.8093906]]\n",
      "16 day input [0.85934972 0.86296838 0.82794232 0.85136133 0.88590941 0.88229075\n",
      " 0.87539472 0.86228557 0.88604599 0.92605614 0.95268418 0.94913376\n",
      " 0.98252114 0.95719047 0.94756342 0.98149702 0.93343006 0.92578307\n",
      " 0.9162926  0.93841434 0.95650766 0.96087738 0.98852953 0.98142868\n",
      " 0.98204325 0.97398653 0.96968515 1.         0.98422806 0.95159172\n",
      " 0.93165489 0.93281558 0.93295217 0.95268418 0.95575662 0.93295217\n",
      " 0.93896056 0.916634   0.89225911 0.88051549 0.86617741 0.86078347\n",
      " 0.84822056 0.84760608 0.84439706 0.92025267 0.95063585 0.94947516\n",
      " 0.95787318 0.93779977 0.93431768 0.92933351 0.95097726 0.96087738\n",
      " 0.93247418 0.90871386 0.91035254 0.93704872 0.93541014 0.91035254\n",
      " 0.89956479 0.87921831 0.85020064 0.86843055 0.88283697 0.88468037\n",
      " 0.87157123 0.89451226 0.89225911 0.87136641 0.84494329 0.83224379\n",
      " 0.86986431 0.8396177  0.81374072 0.78567892 0.81619868 0.84692327\n",
      " 0.85395578 0.87689682 0.88645564 0.9099429  0.91943338 0.94578825\n",
      " 0.85675788 0.86113858 0.86157727 0.85965693 0.85636538 0.85231149\n",
      " 0.84786886 0.8432653  0.83863896 0.83407027 0.82960683 0.82527363\n",
      " 0.82108319 0.81703991 0.81314337 0.8093906 ]\n",
      "1/1 [==============================] - 0s 36ms/step\n",
      "16 day output [[0.8057762]]\n",
      "17 day input [0.86296838 0.82794232 0.85136133 0.88590941 0.88229075 0.87539472\n",
      " 0.86228557 0.88604599 0.92605614 0.95268418 0.94913376 0.98252114\n",
      " 0.95719047 0.94756342 0.98149702 0.93343006 0.92578307 0.9162926\n",
      " 0.93841434 0.95650766 0.96087738 0.98852953 0.98142868 0.98204325\n",
      " 0.97398653 0.96968515 1.         0.98422806 0.95159172 0.93165489\n",
      " 0.93281558 0.93295217 0.95268418 0.95575662 0.93295217 0.93896056\n",
      " 0.916634   0.89225911 0.88051549 0.86617741 0.86078347 0.84822056\n",
      " 0.84760608 0.84439706 0.92025267 0.95063585 0.94947516 0.95787318\n",
      " 0.93779977 0.93431768 0.92933351 0.95097726 0.96087738 0.93247418\n",
      " 0.90871386 0.91035254 0.93704872 0.93541014 0.91035254 0.89956479\n",
      " 0.87921831 0.85020064 0.86843055 0.88283697 0.88468037 0.87157123\n",
      " 0.89451226 0.89225911 0.87136641 0.84494329 0.83224379 0.86986431\n",
      " 0.8396177  0.81374072 0.78567892 0.81619868 0.84692327 0.85395578\n",
      " 0.87689682 0.88645564 0.9099429  0.91943338 0.94578825 0.85675788\n",
      " 0.86113858 0.86157727 0.85965693 0.85636538 0.85231149 0.84786886\n",
      " 0.8432653  0.83863896 0.83407027 0.82960683 0.82527363 0.82108319\n",
      " 0.81703991 0.81314337 0.8093906  0.80577618]\n",
      "1/1 [==============================] - 0s 31ms/step\n",
      "17 day output [[0.8022946]]\n",
      "18 day input [0.82794232 0.85136133 0.88590941 0.88229075 0.87539472 0.86228557\n",
      " 0.88604599 0.92605614 0.95268418 0.94913376 0.98252114 0.95719047\n",
      " 0.94756342 0.98149702 0.93343006 0.92578307 0.9162926  0.93841434\n",
      " 0.95650766 0.96087738 0.98852953 0.98142868 0.98204325 0.97398653\n",
      " 0.96968515 1.         0.98422806 0.95159172 0.93165489 0.93281558\n",
      " 0.93295217 0.95268418 0.95575662 0.93295217 0.93896056 0.916634\n",
      " 0.89225911 0.88051549 0.86617741 0.86078347 0.84822056 0.84760608\n",
      " 0.84439706 0.92025267 0.95063585 0.94947516 0.95787318 0.93779977\n",
      " 0.93431768 0.92933351 0.95097726 0.96087738 0.93247418 0.90871386\n",
      " 0.91035254 0.93704872 0.93541014 0.91035254 0.89956479 0.87921831\n",
      " 0.85020064 0.86843055 0.88283697 0.88468037 0.87157123 0.89451226\n",
      " 0.89225911 0.87136641 0.84494329 0.83224379 0.86986431 0.8396177\n",
      " 0.81374072 0.78567892 0.81619868 0.84692327 0.85395578 0.87689682\n",
      " 0.88645564 0.9099429  0.91943338 0.94578825 0.85675788 0.86113858\n",
      " 0.86157727 0.85965693 0.85636538 0.85231149 0.84786886 0.8432653\n",
      " 0.83863896 0.83407027 0.82960683 0.82527363 0.82108319 0.81703991\n",
      " 0.81314337 0.8093906  0.80577618 0.80229461]\n",
      "1/1 [==============================] - 0s 31ms/step\n",
      "18 day output [[0.79894]]\n",
      "19 day input [0.85136133 0.88590941 0.88229075 0.87539472 0.86228557 0.88604599\n",
      " 0.92605614 0.95268418 0.94913376 0.98252114 0.95719047 0.94756342\n",
      " 0.98149702 0.93343006 0.92578307 0.9162926  0.93841434 0.95650766\n",
      " 0.96087738 0.98852953 0.98142868 0.98204325 0.97398653 0.96968515\n",
      " 1.         0.98422806 0.95159172 0.93165489 0.93281558 0.93295217\n",
      " 0.95268418 0.95575662 0.93295217 0.93896056 0.916634   0.89225911\n",
      " 0.88051549 0.86617741 0.86078347 0.84822056 0.84760608 0.84439706\n",
      " 0.92025267 0.95063585 0.94947516 0.95787318 0.93779977 0.93431768\n",
      " 0.92933351 0.95097726 0.96087738 0.93247418 0.90871386 0.91035254\n",
      " 0.93704872 0.93541014 0.91035254 0.89956479 0.87921831 0.85020064\n",
      " 0.86843055 0.88283697 0.88468037 0.87157123 0.89451226 0.89225911\n",
      " 0.87136641 0.84494329 0.83224379 0.86986431 0.8396177  0.81374072\n",
      " 0.78567892 0.81619868 0.84692327 0.85395578 0.87689682 0.88645564\n",
      " 0.9099429  0.91943338 0.94578825 0.85675788 0.86113858 0.86157727\n",
      " 0.85965693 0.85636538 0.85231149 0.84786886 0.8432653  0.83863896\n",
      " 0.83407027 0.82960683 0.82527363 0.82108319 0.81703991 0.81314337\n",
      " 0.8093906  0.80577618 0.80229461 0.79894   ]\n",
      "1/1 [==============================] - 0s 31ms/step\n",
      "19 day output [[0.7957055]]\n",
      "20 day input [0.88590941 0.88229075 0.87539472 0.86228557 0.88604599 0.92605614\n",
      " 0.95268418 0.94913376 0.98252114 0.95719047 0.94756342 0.98149702\n",
      " 0.93343006 0.92578307 0.9162926  0.93841434 0.95650766 0.96087738\n",
      " 0.98852953 0.98142868 0.98204325 0.97398653 0.96968515 1.\n",
      " 0.98422806 0.95159172 0.93165489 0.93281558 0.93295217 0.95268418\n",
      " 0.95575662 0.93295217 0.93896056 0.916634   0.89225911 0.88051549\n",
      " 0.86617741 0.86078347 0.84822056 0.84760608 0.84439706 0.92025267\n",
      " 0.95063585 0.94947516 0.95787318 0.93779977 0.93431768 0.92933351\n",
      " 0.95097726 0.96087738 0.93247418 0.90871386 0.91035254 0.93704872\n",
      " 0.93541014 0.91035254 0.89956479 0.87921831 0.85020064 0.86843055\n",
      " 0.88283697 0.88468037 0.87157123 0.89451226 0.89225911 0.87136641\n",
      " 0.84494329 0.83224379 0.86986431 0.8396177  0.81374072 0.78567892\n",
      " 0.81619868 0.84692327 0.85395578 0.87689682 0.88645564 0.9099429\n",
      " 0.91943338 0.94578825 0.85675788 0.86113858 0.86157727 0.85965693\n",
      " 0.85636538 0.85231149 0.84786886 0.8432653  0.83863896 0.83407027\n",
      " 0.82960683 0.82527363 0.82108319 0.81703991 0.81314337 0.8093906\n",
      " 0.80577618 0.80229461 0.79894    0.7957055 ]\n",
      "1/1 [==============================] - 0s 31ms/step\n",
      "20 day output [[0.7925855]]\n",
      "21 day input [0.88229075 0.87539472 0.86228557 0.88604599 0.92605614 0.95268418\n",
      " 0.94913376 0.98252114 0.95719047 0.94756342 0.98149702 0.93343006\n",
      " 0.92578307 0.9162926  0.93841434 0.95650766 0.96087738 0.98852953\n",
      " 0.98142868 0.98204325 0.97398653 0.96968515 1.         0.98422806\n",
      " 0.95159172 0.93165489 0.93281558 0.93295217 0.95268418 0.95575662\n",
      " 0.93295217 0.93896056 0.916634   0.89225911 0.88051549 0.86617741\n",
      " 0.86078347 0.84822056 0.84760608 0.84439706 0.92025267 0.95063585\n",
      " 0.94947516 0.95787318 0.93779977 0.93431768 0.92933351 0.95097726\n",
      " 0.96087738 0.93247418 0.90871386 0.91035254 0.93704872 0.93541014\n",
      " 0.91035254 0.89956479 0.87921831 0.85020064 0.86843055 0.88283697\n",
      " 0.88468037 0.87157123 0.89451226 0.89225911 0.87136641 0.84494329\n",
      " 0.83224379 0.86986431 0.8396177  0.81374072 0.78567892 0.81619868\n",
      " 0.84692327 0.85395578 0.87689682 0.88645564 0.9099429  0.91943338\n",
      " 0.94578825 0.85675788 0.86113858 0.86157727 0.85965693 0.85636538\n",
      " 0.85231149 0.84786886 0.8432653  0.83863896 0.83407027 0.82960683\n",
      " 0.82527363 0.82108319 0.81703991 0.81314337 0.8093906  0.80577618\n",
      " 0.80229461 0.79894    0.7957055  0.79258549]\n",
      "1/1 [==============================] - 0s 16ms/step\n",
      "21 day output [[0.7895742]]\n",
      "22 day input [0.87539472 0.86228557 0.88604599 0.92605614 0.95268418 0.94913376\n",
      " 0.98252114 0.95719047 0.94756342 0.98149702 0.93343006 0.92578307\n",
      " 0.9162926  0.93841434 0.95650766 0.96087738 0.98852953 0.98142868\n",
      " 0.98204325 0.97398653 0.96968515 1.         0.98422806 0.95159172\n",
      " 0.93165489 0.93281558 0.93295217 0.95268418 0.95575662 0.93295217\n",
      " 0.93896056 0.916634   0.89225911 0.88051549 0.86617741 0.86078347\n",
      " 0.84822056 0.84760608 0.84439706 0.92025267 0.95063585 0.94947516\n",
      " 0.95787318 0.93779977 0.93431768 0.92933351 0.95097726 0.96087738\n",
      " 0.93247418 0.90871386 0.91035254 0.93704872 0.93541014 0.91035254\n",
      " 0.89956479 0.87921831 0.85020064 0.86843055 0.88283697 0.88468037\n",
      " 0.87157123 0.89451226 0.89225911 0.87136641 0.84494329 0.83224379\n",
      " 0.86986431 0.8396177  0.81374072 0.78567892 0.81619868 0.84692327\n",
      " 0.85395578 0.87689682 0.88645564 0.9099429  0.91943338 0.94578825\n",
      " 0.85675788 0.86113858 0.86157727 0.85965693 0.85636538 0.85231149\n",
      " 0.84786886 0.8432653  0.83863896 0.83407027 0.82960683 0.82527363\n",
      " 0.82108319 0.81703991 0.81314337 0.8093906  0.80577618 0.80229461\n",
      " 0.79894    0.7957055  0.79258549 0.78957421]\n",
      "1/1 [==============================] - 0s 43ms/step\n",
      "22 day output [[0.78666574]]\n",
      "23 day input [0.86228557 0.88604599 0.92605614 0.95268418 0.94913376 0.98252114\n",
      " 0.95719047 0.94756342 0.98149702 0.93343006 0.92578307 0.9162926\n",
      " 0.93841434 0.95650766 0.96087738 0.98852953 0.98142868 0.98204325\n",
      " 0.97398653 0.96968515 1.         0.98422806 0.95159172 0.93165489\n",
      " 0.93281558 0.93295217 0.95268418 0.95575662 0.93295217 0.93896056\n",
      " 0.916634   0.89225911 0.88051549 0.86617741 0.86078347 0.84822056\n",
      " 0.84760608 0.84439706 0.92025267 0.95063585 0.94947516 0.95787318\n",
      " 0.93779977 0.93431768 0.92933351 0.95097726 0.96087738 0.93247418\n",
      " 0.90871386 0.91035254 0.93704872 0.93541014 0.91035254 0.89956479\n",
      " 0.87921831 0.85020064 0.86843055 0.88283697 0.88468037 0.87157123\n",
      " 0.89451226 0.89225911 0.87136641 0.84494329 0.83224379 0.86986431\n",
      " 0.8396177  0.81374072 0.78567892 0.81619868 0.84692327 0.85395578\n",
      " 0.87689682 0.88645564 0.9099429  0.91943338 0.94578825 0.85675788\n",
      " 0.86113858 0.86157727 0.85965693 0.85636538 0.85231149 0.84786886\n",
      " 0.8432653  0.83863896 0.83407027 0.82960683 0.82527363 0.82108319\n",
      " 0.81703991 0.81314337 0.8093906  0.80577618 0.80229461 0.79894\n",
      " 0.7957055  0.79258549 0.78957421 0.78666574]\n",
      "1/1 [==============================] - 0s 41ms/step\n",
      "23 day output [[0.7838549]]\n",
      "24 day input [0.88604599 0.92605614 0.95268418 0.94913376 0.98252114 0.95719047\n",
      " 0.94756342 0.98149702 0.93343006 0.92578307 0.9162926  0.93841434\n",
      " 0.95650766 0.96087738 0.98852953 0.98142868 0.98204325 0.97398653\n",
      " 0.96968515 1.         0.98422806 0.95159172 0.93165489 0.93281558\n",
      " 0.93295217 0.95268418 0.95575662 0.93295217 0.93896056 0.916634\n",
      " 0.89225911 0.88051549 0.86617741 0.86078347 0.84822056 0.84760608\n",
      " 0.84439706 0.92025267 0.95063585 0.94947516 0.95787318 0.93779977\n",
      " 0.93431768 0.92933351 0.95097726 0.96087738 0.93247418 0.90871386\n",
      " 0.91035254 0.93704872 0.93541014 0.91035254 0.89956479 0.87921831\n",
      " 0.85020064 0.86843055 0.88283697 0.88468037 0.87157123 0.89451226\n",
      " 0.89225911 0.87136641 0.84494329 0.83224379 0.86986431 0.8396177\n",
      " 0.81374072 0.78567892 0.81619868 0.84692327 0.85395578 0.87689682\n",
      " 0.88645564 0.9099429  0.91943338 0.94578825 0.85675788 0.86113858\n",
      " 0.86157727 0.85965693 0.85636538 0.85231149 0.84786886 0.8432653\n",
      " 0.83863896 0.83407027 0.82960683 0.82527363 0.82108319 0.81703991\n",
      " 0.81314337 0.8093906  0.80577618 0.80229461 0.79894    0.7957055\n",
      " 0.79258549 0.78957421 0.78666574 0.7838549 ]\n",
      "1/1 [==============================] - 0s 31ms/step\n",
      "24 day output [[0.7811369]]\n",
      "25 day input [0.92605614 0.95268418 0.94913376 0.98252114 0.95719047 0.94756342\n",
      " 0.98149702 0.93343006 0.92578307 0.9162926  0.93841434 0.95650766\n",
      " 0.96087738 0.98852953 0.98142868 0.98204325 0.97398653 0.96968515\n",
      " 1.         0.98422806 0.95159172 0.93165489 0.93281558 0.93295217\n",
      " 0.95268418 0.95575662 0.93295217 0.93896056 0.916634   0.89225911\n",
      " 0.88051549 0.86617741 0.86078347 0.84822056 0.84760608 0.84439706\n",
      " 0.92025267 0.95063585 0.94947516 0.95787318 0.93779977 0.93431768\n",
      " 0.92933351 0.95097726 0.96087738 0.93247418 0.90871386 0.91035254\n",
      " 0.93704872 0.93541014 0.91035254 0.89956479 0.87921831 0.85020064\n",
      " 0.86843055 0.88283697 0.88468037 0.87157123 0.89451226 0.89225911\n",
      " 0.87136641 0.84494329 0.83224379 0.86986431 0.8396177  0.81374072\n",
      " 0.78567892 0.81619868 0.84692327 0.85395578 0.87689682 0.88645564\n",
      " 0.9099429  0.91943338 0.94578825 0.85675788 0.86113858 0.86157727\n",
      " 0.85965693 0.85636538 0.85231149 0.84786886 0.8432653  0.83863896\n",
      " 0.83407027 0.82960683 0.82527363 0.82108319 0.81703991 0.81314337\n",
      " 0.8093906  0.80577618 0.80229461 0.79894    0.7957055  0.79258549\n",
      " 0.78957421 0.78666574 0.7838549  0.78113687]\n",
      "1/1 [==============================] - 0s 31ms/step\n",
      "25 day output [[0.7785071]]\n",
      "26 day input [0.95268418 0.94913376 0.98252114 0.95719047 0.94756342 0.98149702\n",
      " 0.93343006 0.92578307 0.9162926  0.93841434 0.95650766 0.96087738\n",
      " 0.98852953 0.98142868 0.98204325 0.97398653 0.96968515 1.\n",
      " 0.98422806 0.95159172 0.93165489 0.93281558 0.93295217 0.95268418\n",
      " 0.95575662 0.93295217 0.93896056 0.916634   0.89225911 0.88051549\n",
      " 0.86617741 0.86078347 0.84822056 0.84760608 0.84439706 0.92025267\n",
      " 0.95063585 0.94947516 0.95787318 0.93779977 0.93431768 0.92933351\n",
      " 0.95097726 0.96087738 0.93247418 0.90871386 0.91035254 0.93704872\n",
      " 0.93541014 0.91035254 0.89956479 0.87921831 0.85020064 0.86843055\n",
      " 0.88283697 0.88468037 0.87157123 0.89451226 0.89225911 0.87136641\n",
      " 0.84494329 0.83224379 0.86986431 0.8396177  0.81374072 0.78567892\n",
      " 0.81619868 0.84692327 0.85395578 0.87689682 0.88645564 0.9099429\n",
      " 0.91943338 0.94578825 0.85675788 0.86113858 0.86157727 0.85965693\n",
      " 0.85636538 0.85231149 0.84786886 0.8432653  0.83863896 0.83407027\n",
      " 0.82960683 0.82527363 0.82108319 0.81703991 0.81314337 0.8093906\n",
      " 0.80577618 0.80229461 0.79894    0.7957055  0.79258549 0.78957421\n",
      " 0.78666574 0.7838549  0.78113687 0.77850711]\n",
      "1/1 [==============================] - 0s 34ms/step\n",
      "26 day output [[0.7759611]]\n",
      "27 day input [0.94913376 0.98252114 0.95719047 0.94756342 0.98149702 0.93343006\n",
      " 0.92578307 0.9162926  0.93841434 0.95650766 0.96087738 0.98852953\n",
      " 0.98142868 0.98204325 0.97398653 0.96968515 1.         0.98422806\n",
      " 0.95159172 0.93165489 0.93281558 0.93295217 0.95268418 0.95575662\n",
      " 0.93295217 0.93896056 0.916634   0.89225911 0.88051549 0.86617741\n",
      " 0.86078347 0.84822056 0.84760608 0.84439706 0.92025267 0.95063585\n",
      " 0.94947516 0.95787318 0.93779977 0.93431768 0.92933351 0.95097726\n",
      " 0.96087738 0.93247418 0.90871386 0.91035254 0.93704872 0.93541014\n",
      " 0.91035254 0.89956479 0.87921831 0.85020064 0.86843055 0.88283697\n",
      " 0.88468037 0.87157123 0.89451226 0.89225911 0.87136641 0.84494329\n",
      " 0.83224379 0.86986431 0.8396177  0.81374072 0.78567892 0.81619868\n",
      " 0.84692327 0.85395578 0.87689682 0.88645564 0.9099429  0.91943338\n",
      " 0.94578825 0.85675788 0.86113858 0.86157727 0.85965693 0.85636538\n",
      " 0.85231149 0.84786886 0.8432653  0.83863896 0.83407027 0.82960683\n",
      " 0.82527363 0.82108319 0.81703991 0.81314337 0.8093906  0.80577618\n",
      " 0.80229461 0.79894    0.7957055  0.79258549 0.78957421 0.78666574\n",
      " 0.7838549  0.78113687 0.77850711 0.7759611 ]\n",
      "1/1 [==============================] - 0s 27ms/step\n",
      "27 day output [[0.77349526]]\n",
      "28 day input [0.98252114 0.95719047 0.94756342 0.98149702 0.93343006 0.92578307\n",
      " 0.9162926  0.93841434 0.95650766 0.96087738 0.98852953 0.98142868\n",
      " 0.98204325 0.97398653 0.96968515 1.         0.98422806 0.95159172\n",
      " 0.93165489 0.93281558 0.93295217 0.95268418 0.95575662 0.93295217\n",
      " 0.93896056 0.916634   0.89225911 0.88051549 0.86617741 0.86078347\n",
      " 0.84822056 0.84760608 0.84439706 0.92025267 0.95063585 0.94947516\n",
      " 0.95787318 0.93779977 0.93431768 0.92933351 0.95097726 0.96087738\n",
      " 0.93247418 0.90871386 0.91035254 0.93704872 0.93541014 0.91035254\n",
      " 0.89956479 0.87921831 0.85020064 0.86843055 0.88283697 0.88468037\n",
      " 0.87157123 0.89451226 0.89225911 0.87136641 0.84494329 0.83224379\n",
      " 0.86986431 0.8396177  0.81374072 0.78567892 0.81619868 0.84692327\n",
      " 0.85395578 0.87689682 0.88645564 0.9099429  0.91943338 0.94578825\n",
      " 0.85675788 0.86113858 0.86157727 0.85965693 0.85636538 0.85231149\n",
      " 0.84786886 0.8432653  0.83863896 0.83407027 0.82960683 0.82527363\n",
      " 0.82108319 0.81703991 0.81314337 0.8093906  0.80577618 0.80229461\n",
      " 0.79894    0.7957055  0.79258549 0.78957421 0.78666574 0.7838549\n",
      " 0.78113687 0.77850711 0.7759611  0.77349526]\n",
      "1/1 [==============================] - 0s 31ms/step\n",
      "28 day output [[0.7711058]]\n",
      "29 day input [0.95719047 0.94756342 0.98149702 0.93343006 0.92578307 0.9162926\n",
      " 0.93841434 0.95650766 0.96087738 0.98852953 0.98142868 0.98204325\n",
      " 0.97398653 0.96968515 1.         0.98422806 0.95159172 0.93165489\n",
      " 0.93281558 0.93295217 0.95268418 0.95575662 0.93295217 0.93896056\n",
      " 0.916634   0.89225911 0.88051549 0.86617741 0.86078347 0.84822056\n",
      " 0.84760608 0.84439706 0.92025267 0.95063585 0.94947516 0.95787318\n",
      " 0.93779977 0.93431768 0.92933351 0.95097726 0.96087738 0.93247418\n",
      " 0.90871386 0.91035254 0.93704872 0.93541014 0.91035254 0.89956479\n",
      " 0.87921831 0.85020064 0.86843055 0.88283697 0.88468037 0.87157123\n",
      " 0.89451226 0.89225911 0.87136641 0.84494329 0.83224379 0.86986431\n",
      " 0.8396177  0.81374072 0.78567892 0.81619868 0.84692327 0.85395578\n",
      " 0.87689682 0.88645564 0.9099429  0.91943338 0.94578825 0.85675788\n",
      " 0.86113858 0.86157727 0.85965693 0.85636538 0.85231149 0.84786886\n",
      " 0.8432653  0.83863896 0.83407027 0.82960683 0.82527363 0.82108319\n",
      " 0.81703991 0.81314337 0.8093906  0.80577618 0.80229461 0.79894\n",
      " 0.7957055  0.79258549 0.78957421 0.78666574 0.7838549  0.78113687\n",
      " 0.77850711 0.7759611  0.77349526 0.77110583]\n",
      "1/1 [==============================] - 0s 31ms/step\n",
      "29 day output [[0.76878947]]\n",
      "[[0.8567578792572021], [0.8611385822296143], [0.8615772724151611], [0.8596569299697876], [0.8563653826713562], [0.8523114919662476], [0.8478688597679138], [0.8432652950286865], [0.838638961315155], [0.8340702652931213], [0.829606831073761], [0.8252736330032349], [0.8210831880569458], [0.8170399069786072], [0.8131433725357056], [0.8093906044960022], [0.8057761788368225], [0.8022946119308472], [0.7989400029182434], [0.7957054972648621], [0.7925854921340942], [0.7895742058753967], [0.7866657376289368], [0.7838549017906189], [0.7811368703842163], [0.7785071134567261], [0.7759611010551453], [0.7734952569007874], [0.7711058259010315], [0.7687894701957703]]\n"
     ]
    }
   ],
   "source": [
    "# demonstrate prediction for next 30 days\n",
    "from numpy import array\n",
    "\n",
    "lst_output=[]\n",
    "n_steps=100\n",
    "i=0\n",
    "while(i<30):\n",
    "    \n",
    "    if(len(temp_input)>100):\n",
    "        x_input=np.array(temp_input[1:])\n",
    "        print(\"{} day input {}\".format(i,x_input))\n",
    "        x_input=x_input.reshape(1,-1)\n",
    "        x_input = x_input.reshape((1, n_steps, 1))\n",
    "        #print(x_input)\n",
    "        yhat = model.predict(x_input)\n",
    "        print(\"{} day output {}\".format(i,yhat))\n",
    "        temp_input.extend(yhat[0].tolist())\n",
    "        temp_input=temp_input[1:]\n",
    "        #print(temp_input)\n",
    "        lst_output.extend(yhat.tolist())\n",
    "        i=i+1\n",
    "    else:\n",
    "        x_input = x_input.reshape((1, n_steps,1))\n",
    "        yhat = model.predict(x_input)\n",
    "        print(yhat[0])\n",
    "        temp_input.extend(yhat[0].tolist())\n",
    "        print(len(temp_input))\n",
    "        lst_output.extend(yhat.tolist())\n",
    "        i=i+1\n",
    "    \n",
    "\n",
    "print(lst_output)"
   ]
  },
  {
   "cell_type": "code",
   "execution_count": 68,
   "id": "077565c7-bc31-4eec-bfaa-367dc3e8cf60",
   "metadata": {},
   "outputs": [],
   "source": [
    "day_new=np.arange(1,101)\n",
    "day_pred=np.arange(101,131)"
   ]
  },
  {
   "cell_type": "code",
   "execution_count": 69,
   "id": "25453c35-6af0-466a-9d9d-3ee547d5cb2d",
   "metadata": {},
   "outputs": [
    {
     "data": {
      "text/plain": [
       "1065"
      ]
     },
     "execution_count": 69,
     "metadata": {},
     "output_type": "execute_result"
    }
   ],
   "source": [
    "len(df1)"
   ]
  },
  {
   "cell_type": "code",
   "execution_count": 70,
   "id": "66fecc74-12dd-4d9d-8b81-adf013fc19e7",
   "metadata": {},
   "outputs": [],
   "source": [
    "df2=df1.tolist()\n",
    "df2.extend(lst_output)"
   ]
  },
  {
   "cell_type": "code",
   "execution_count": 75,
   "id": "c9257de8-4ed4-403e-a9f4-33c5b507bc57",
   "metadata": {},
   "outputs": [
    {
     "data": {
      "text/plain": [
       "<Figure size 1300x700 with 0 Axes>"
      ]
     },
     "execution_count": 75,
     "metadata": {},
     "output_type": "execute_result"
    },
    {
     "data": {
      "image/png": "[encoded data removed]",
      "text/plain": [
       "<Figure size 640x480 with 1 Axes>"
      ]
     },
     "metadata": {},
     "output_type": "display_data"
    },
    {
     "data": {
      "text/plain": [
       "<Figure size 1300x700 with 0 Axes>"
      ]
     },
     "metadata": {},
     "output_type": "display_data"
    }
   ],
   "source": [
    "plt.plot(day_new,scaler.inverse_transform(df1[965:]))\n",
    "plt.plot(day_pred,scaler.inverse_transform(lst_output))"
   ]
  },
  {
   "cell_type": "code",
   "execution_count": 76,
   "id": "fd8ca13a-1d89-4f5f-a211-529aa5ec506b",
   "metadata": {},
   "outputs": [
    {
     "data": {
      "text/plain": [
       "<Figure size 1300x700 with 0 Axes>"
      ]
     },
     "execution_count": 76,
     "metadata": {},
     "output_type": "execute_result"
    },
    {
     "data": {
      "image/png": "[encoded data removed]",
      "text/plain": [
       "<Figure size 640x480 with 1 Axes>"
      ]
     },
     "metadata": {},
     "output_type": "display_data"
    },
    {
     "data": {
      "text/plain": [
       "<Figure size 1300x700 with 0 Axes>"
      ]
     },
     "metadata": {},
     "output_type": "display_data"
    }
   ],
   "source": [
    "df2=df1.tolist()\n",
    "df2.extend(lst_output)\n",
    "plt.plot(df2)"
   ]
  },
  {
   "cell_type": "code",
   "execution_count": null,
   "id": "f017d7d1-b8e3-430f-82a2-5552ef3431bd",
   "metadata": {},
   "outputs": [],
   "source": []
  }
 ],
 "metadata": {
  "kernelspec": {
   "display_name": "Python 3 (ipykernel)",
   "language": "python",
   "name": "python3"
  },
  "language_info": {
   "codemirror_mode": {
    "name": "ipython",
    "version": 3
   },
   "file_extension": ".py",
   "mimetype": "text/x-python",
   "name": "python",
   "nbconvert_exporter": "python",
   "pygments_lexer": "ipython3",
   "version": "3.11.4"
  }
 },
 "nbformat": 4,
 "nbformat_minor": 5
}
